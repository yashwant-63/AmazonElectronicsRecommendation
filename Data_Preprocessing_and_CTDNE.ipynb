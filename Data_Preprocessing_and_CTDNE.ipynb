{
 "cells": [
  {
   "cell_type": "code",
   "execution_count": null,
   "id": "f516585a",
   "metadata": {},
   "outputs": [],
   "source": [
    "#data preparation\n",
    "#Mounting to google drive\n",
    "from google.colab import drive\n",
    "drive.mount('/content/drive')\n",
    "\n",
    "# Commented out IPython magic to ensure Python compatibility.\n",
    "#Setting path\n",
    "path = '/content/drive/MyDrive/CSE6240/Project' \n",
    "# %cd $path\n",
    "\n",
    "!pwd\n",
    "\n",
    "#Reading File\n",
    "import pandas as pd\n",
    "ratings = pd.read_csv(\"ratings_Electronics.csv\",names=['user', 'item','comma_separated_list_of_features','timestamp'])\n",
    "ratings[\"state_label\"]=0\n",
    "\n",
    "#ratings[\"timestamp\"]=(ratings[\"timestamp\"]-ratings[\"timestamp\"].mean())/ratings[\"timestamp\"].std()\n",
    "\n",
    "#Checking Ratings\n",
    "ratings.head()\n",
    "\n",
    "#Creating unique index for users\n",
    "unique_user=ratings[\"user\"].unique()\n",
    "unique_user.sort()\n",
    "user_index={unique_user[i]:i for i in range(len(unique_user))}\n",
    "\n",
    "#Creating unique index for items \n",
    "unique_item=ratings[\"item\"].unique()\n",
    "unique_item.sort()\n",
    "item_index={unique_item[i]:i for i in range(len(unique_item))}\n",
    "user_index=pd.DataFrame(user_index.items(),columns=[\"User_Id\",\"User\"])\n",
    "item_index=pd.DataFrame(item_index.items(),columns=[\"Item_Id\",\"Item\"])\n",
    "\n",
    "#Joined to replace item and user value with index\n",
    "ratings=ratings.merge(user_index,left_on=\"user\",right_on=\"User_Id\",how=\"inner\")\n",
    "ratings=ratings.merge(item_index,left_on=\"item\",right_on=\"Item_Id\",how=\"inner\")\n",
    "ratings=ratings[['User', 'Item', 'timestamp', 'state_label',\n",
    "            'comma_separated_list_of_features']]\n",
    "ratings=ratings.rename(columns={\"User\": \"user\", \"Item\": \"item\"})\n",
    "\n",
    "#Finding count of interactions per item /user\n",
    "user_count=ratings[[\"user\",\"comma_separated_list_of_features\"]].groupby(\"user\").count().reset_index()\n",
    "item_count=ratings[[\"item\",\"comma_separated_list_of_features\"]].groupby(\"item\").count().reset_index()\n",
    "\n",
    "#Sorting item count\n",
    "item_count=item_count.sort_values(by=\"comma_separated_list_of_features\", ascending=False)\n",
    "\n",
    "item_count=item_count.reset_index()\n",
    "\n",
    "#Sort values by count\n",
    "user_count=user_count.sort_values(by=\"comma_separated_list_of_features\", ascending=False)\n",
    "user_count=user_count.reset_index()\n",
    "\n",
    "user_index.to_csv(\"/content/drive/MyDrive/CSE6240/Project/data/user_index.csv\",index=False)\n",
    "item_index.to_csv(\"/content/drive/MyDrive/CSE6240/Project/data/item_index.csv\",index=False)\n",
    "\n",
    "#Select top users and items\n",
    "item_list=item_count[:1000][\"item\"]\n",
    "user_list=user_count[:8000][\"user\"]\n",
    "filter2=ratings[\"item\"].isin(item_list)\n",
    "filter1=ratings[\"user\"].isin(user_list)\n",
    "ratings_filtered=ratings[filter1&filter2]\n",
    "#ratings_filtered.loc[\"timestamp\"]=ratings_filtered[\"timestamp\"]-ratings_filtered[\"timestamp\"].min()\n",
    "\n",
    "\n",
    "#Sorted dataset by timestamp and substracted the minimum timestamp\n",
    "\n",
    "ratings_filtered=ratings_filtered.sort_values(by=\"timestamp\")\n",
    "min1=ratings_filtered[\"timestamp\"].min()\n",
    "ratings_filtered[\"timestamp\"]=ratings_filtered[\"timestamp\"]-min1\n",
    "\n",
    "#saving file\n",
    "\n",
    "ratings_filtered.to_csv(\"/content/drive/MyDrive/CSE6240/Project/data/ratings_filtered_top_1000_top_8k_user.csv\",index=False)\n",
    "\n"
   ]
  },
  {
   "cell_type": "code",
   "execution_count": 1,
   "id": "1d4d5e7d",
   "metadata": {},
   "outputs": [],
   "source": [
    "import numpy as np\n",
    "import pandas as pd\n",
    "import random\n",
    "import matplotlib.pyplot as plt\n",
    "from IPython.display import display, HTML\n",
    "from sklearn.manifold import TSNE\n",
    "from sklearn.model_selection import train_test_split\n",
    "from operator import itemgetter as it\n",
    "from itertools import repeat\n",
    "import pandasql as ps\n",
    "from numpy import dot\n",
    "from numpy.linalg import norm\n",
    "# from stellargraph import StellarGraph\n",
    "# from stellargraph.datasets import IAEnronEmployees\n",
    "\n",
    "%matplotlib inline"
   ]
  },
  {
   "cell_type": "code",
   "execution_count": 2,
   "id": "15c59990",
   "metadata": {
    "collapsed": true
   },
   "outputs": [
    {
     "data": {
      "text/html": [
       "<div>\n",
       "<style scoped>\n",
       "    .dataframe tbody tr th:only-of-type {\n",
       "        vertical-align: middle;\n",
       "    }\n",
       "\n",
       "    .dataframe tbody tr th {\n",
       "        vertical-align: top;\n",
       "    }\n",
       "\n",
       "    .dataframe thead th {\n",
       "        text-align: right;\n",
       "    }\n",
       "</style>\n",
       "<table border=\"1\" class=\"dataframe\">\n",
       "  <thead>\n",
       "    <tr style=\"text-align: right;\">\n",
       "      <th></th>\n",
       "      <th>user</th>\n",
       "      <th>item</th>\n",
       "      <th>timestamp</th>\n",
       "      <th>state_label</th>\n",
       "      <th>comma_separated_list_of_features</th>\n",
       "    </tr>\n",
       "  </thead>\n",
       "  <tbody>\n",
       "    <tr>\n",
       "      <th>0</th>\n",
       "      <td>858161</td>\n",
       "      <td>2969</td>\n",
       "      <td>0</td>\n",
       "      <td>0</td>\n",
       "      <td>5.0</td>\n",
       "    </tr>\n",
       "    <tr>\n",
       "      <th>1</th>\n",
       "      <td>4033547</td>\n",
       "      <td>2969</td>\n",
       "      <td>4233600</td>\n",
       "      <td>0</td>\n",
       "      <td>5.0</td>\n",
       "    </tr>\n",
       "    <tr>\n",
       "      <th>2</th>\n",
       "      <td>1767914</td>\n",
       "      <td>2111</td>\n",
       "      <td>6393600</td>\n",
       "      <td>0</td>\n",
       "      <td>4.0</td>\n",
       "    </tr>\n",
       "    <tr>\n",
       "      <th>3</th>\n",
       "      <td>3766419</td>\n",
       "      <td>2969</td>\n",
       "      <td>8380800</td>\n",
       "      <td>0</td>\n",
       "      <td>1.0</td>\n",
       "    </tr>\n",
       "    <tr>\n",
       "      <th>4</th>\n",
       "      <td>3409149</td>\n",
       "      <td>3413</td>\n",
       "      <td>15465600</td>\n",
       "      <td>0</td>\n",
       "      <td>4.0</td>\n",
       "    </tr>\n",
       "  </tbody>\n",
       "</table>\n",
       "</div>"
      ],
      "text/plain": [
       "      user  item  timestamp  state_label  comma_separated_list_of_features\n",
       "0   858161  2969          0            0                               5.0\n",
       "1  4033547  2969    4233600            0                               5.0\n",
       "2  1767914  2111    6393600            0                               4.0\n",
       "3  3766419  2969    8380800            0                               1.0\n",
       "4  3409149  3413   15465600            0                               4.0"
      ]
     },
     "execution_count": 2,
     "metadata": {},
     "output_type": "execute_result"
    }
   ],
   "source": [
    "am_df = pd.read_csv('ratings_filtered_top_1000_top_8k_user.csv')\n",
    "am_df.head()"
   ]
  },
  {
   "cell_type": "code",
   "execution_count": 4,
   "id": "bbc31a34",
   "metadata": {
    "collapsed": true
   },
   "outputs": [
    {
     "name": "stderr",
     "output_type": "stream",
     "text": [
      "/Users/yashwant/opt/anaconda3/lib/python3.8/site-packages/pandas/core/frame.py:4441: SettingWithCopyWarning: \n",
      "A value is trying to be set on a copy of a slice from a DataFrame\n",
      "\n",
      "See the caveats in the documentation: https://pandas.pydata.org/pandas-docs/stable/user_guide/indexing.html#returning-a-view-versus-a-copy\n",
      "  return super().rename(\n"
     ]
    }
   ],
   "source": [
    "am_df_st = am_df[['user','item','timestamp']]\n",
    "am_df_st.rename(columns = {'user':'source' , 'item':'target','timestamp':'time'} , inplace = True)"
   ]
  },
  {
   "cell_type": "code",
   "execution_count": 7,
   "id": "0b069cc1",
   "metadata": {
    "collapsed": true
   },
   "outputs": [
    {
     "name": "stderr",
     "output_type": "stream",
     "text": [
      "<ipython-input-7-e9ff64de50df>:1: SettingWithCopyWarning: \n",
      "A value is trying to be set on a copy of a slice from a DataFrame.\n",
      "Try using .loc[row_indexer,col_indexer] = value instead\n",
      "\n",
      "See the caveats in the documentation: https://pandas.pydata.org/pandas-docs/stable/user_guide/indexing.html#returning-a-view-versus-a-copy\n",
      "  am_df_st['source'] = am_df_st['source'].astype(str)\n"
     ]
    }
   ],
   "source": [
    "am_df_st['source'] = am_df_st['source'].astype(str)\n",
    "am_df_st['target'] = am_df_st['target'].astype(str)"
   ]
  },
  {
   "cell_type": "code",
   "execution_count": 20,
   "id": "3e596b94",
   "metadata": {},
   "outputs": [],
   "source": [
    "graph = StellarGraph(\n",
    "    edges=am_df_st,\n",
    "    edge_weight_column=\"time\",\n",
    ")"
   ]
  },
  {
   "cell_type": "code",
   "execution_count": 21,
   "id": "7a5fc791",
   "metadata": {},
   "outputs": [],
   "source": [
    "num_walks_per_node = 10\n",
    "walk_length = 80\n",
    "context_window_size = 10"
   ]
  },
  {
   "cell_type": "code",
   "execution_count": 22,
   "id": "fabf4933",
   "metadata": {},
   "outputs": [],
   "source": [
    "num_cw = len(graph.nodes()) * num_walks_per_node * (walk_length - context_window_size + 1)\n"
   ]
  },
  {
   "cell_type": "code",
   "execution_count": 23,
   "id": "5bef0156",
   "metadata": {
    "collapsed": true
   },
   "outputs": [
    {
     "name": "stdout",
     "output_type": "stream",
     "text": [
      "Number of temporal random walks: 1157618\n"
     ]
    }
   ],
   "source": [
    "from stellargraph.data import TemporalRandomWalk\n",
    "\n",
    "temporal_rw = TemporalRandomWalk(graph)\n",
    "temporal_walks = temporal_rw.run(\n",
    "    num_cw=num_cw,\n",
    "    cw_size=context_window_size,\n",
    "    max_walk_length=walk_length,\n",
    "    walk_bias=\"exponential\",\n",
    ")\n",
    "\n",
    "print(\"Number of temporal random walks: {}\".format(len(temporal_walks)))"
   ]
  },
  {
   "cell_type": "code",
   "execution_count": 26,
   "id": "fd0b8cbe",
   "metadata": {},
   "outputs": [],
   "source": [
    "from gensim.models import Word2Vec\n",
    "\n",
    "embedding_size = 128\n",
    "temporal_model = Word2Vec(\n",
    "    temporal_walks,\n",
    "    vector_size=embedding_size,\n",
    "    window=context_window_size,\n",
    "    min_count=0,\n",
    "    sg=1,\n",
    "    workers=2,\n",
    ")"
   ]
  },
  {
   "cell_type": "code",
   "execution_count": 44,
   "id": "c0691dbc",
   "metadata": {},
   "outputs": [],
   "source": [
    "unseen_node_embedding = np.zeros(embedding_size)\n",
    "def temporal_embedding(u):\n",
    "    try:\n",
    "        return temporal_model.wv[u]\n",
    "    except KeyError:\n",
    "        print(\"Not found embedding for : \",u)\n",
    "        return unseen_node_embedding"
   ]
  },
  {
   "cell_type": "code",
   "execution_count": 28,
   "id": "53246621",
   "metadata": {},
   "outputs": [],
   "source": [
    "temporal_node_embeddings = temporal_model.wv.vectors"
   ]
  },
  {
   "cell_type": "code",
   "execution_count": 38,
   "id": "aebbf5c3",
   "metadata": {},
   "outputs": [],
   "source": [
    "emb_df = pd.DataFrame(temporal_node_embeddings)"
   ]
  },
  {
   "cell_type": "code",
   "execution_count": 45,
   "id": "d8f945fb",
   "metadata": {
    "collapsed": true
   },
   "outputs": [
    {
     "name": "stdout",
     "output_type": "stream",
     "text": [
      "Not found embedding for :  4147935\n",
      "Not found embedding for :  739622\n",
      "Not found embedding for :  1236830\n",
      "Not found embedding for :  714720\n",
      "Not found embedding for :  1666669\n",
      "Not found embedding for :  3572859\n",
      "Not found embedding for :  2199573\n",
      "Not found embedding for :  3900396\n",
      "Not found embedding for :  3572859\n",
      "Not found embedding for :  1502192\n",
      "Not found embedding for :  3900396\n",
      "Not found embedding for :  952319\n",
      "Not found embedding for :  3131217\n",
      "Not found embedding for :  3525523\n",
      "Not found embedding for :  1366838\n",
      "Not found embedding for :  2290398\n",
      "Not found embedding for :  3784092\n",
      "Not found embedding for :  3549128\n",
      "Not found embedding for :  387209\n",
      "Not found embedding for :  172573\n",
      "Not found embedding for :  1666669\n",
      "Not found embedding for :  3310092\n",
      "Not found embedding for :  3968921\n",
      "Not found embedding for :  1280095\n",
      "Not found embedding for :  2522154\n",
      "Not found embedding for :  3841110\n",
      "Not found embedding for :  4160033\n",
      "Not found embedding for :  1180799\n",
      "Not found embedding for :  575890\n",
      "Not found embedding for :  2292414\n",
      "Not found embedding for :  1424652\n",
      "Not found embedding for :  2475854\n",
      "Not found embedding for :  3685776\n",
      "Not found embedding for :  3032338\n",
      "Not found embedding for :  2115797\n",
      "Not found embedding for :  232124\n",
      "Not found embedding for :  365956\n",
      "Not found embedding for :  1509721\n",
      "Not found embedding for :  2096273\n",
      "Not found embedding for :  3441167\n",
      "Not found embedding for :  2170196\n",
      "Not found embedding for :  365956\n",
      "Not found embedding for :  3732589\n",
      "Not found embedding for :  3192371\n",
      "Not found embedding for :  3693738\n",
      "Not found embedding for :  2332032\n",
      "Not found embedding for :  3175509\n",
      "Not found embedding for :  1450283\n",
      "Not found embedding for :  2998696\n",
      "Not found embedding for :  1945979\n",
      "Not found embedding for :  3079219\n",
      "Not found embedding for :  39716\n",
      "Not found embedding for :  3441167\n",
      "Not found embedding for :  3725721\n",
      "Not found embedding for :  1190730\n",
      "Not found embedding for :  72201\n",
      "Not found embedding for :  1945979\n",
      "Not found embedding for :  3307784\n",
      "Not found embedding for :  3398427\n",
      "Not found embedding for :  3286364\n",
      "Not found embedding for :  1111285\n",
      "Not found embedding for :  918084\n",
      "Not found embedding for :  1391893\n",
      "Not found embedding for :  594302\n",
      "Not found embedding for :  2295079\n",
      "Not found embedding for :  3781698\n",
      "Not found embedding for :  3448305\n",
      "Not found embedding for :  3853075\n",
      "Not found embedding for :  2840130\n",
      "Not found embedding for :  3836431\n",
      "Not found embedding for :  403478\n",
      "Not found embedding for :  3613131\n",
      "Not found embedding for :  2240947\n",
      "Not found embedding for :  3290574\n",
      "Not found embedding for :  3825668\n",
      "Not found embedding for :  233432\n",
      "Not found embedding for :  2337559\n",
      "Not found embedding for :  761991\n",
      "Not found embedding for :  2998696\n",
      "Not found embedding for :  173340\n",
      "Not found embedding for :  2480328\n",
      "Not found embedding for :  3525523\n",
      "Not found embedding for :  1217665\n",
      "Not found embedding for :  2688641\n",
      "Not found embedding for :  1854244\n",
      "Not found embedding for :  4102521\n",
      "Not found embedding for :  3002321\n",
      "Not found embedding for :  1249494\n",
      "Not found embedding for :  2687925\n",
      "Not found embedding for :  3558031\n",
      "Not found embedding for :  584117\n",
      "Not found embedding for :  2879174\n",
      "Not found embedding for :  2310808\n",
      "Not found embedding for :  3185646\n",
      "Not found embedding for :  2830348\n",
      "Not found embedding for :  1170604\n",
      "Not found embedding for :  3147963\n",
      "Not found embedding for :  2830348\n",
      "Not found embedding for :  2605652\n",
      "Not found embedding for :  2096273\n",
      "Not found embedding for :  3186193\n",
      "Not found embedding for :  466127\n",
      "Not found embedding for :  2636181\n",
      "Not found embedding for :  235986\n",
      "Not found embedding for :  1390874\n",
      "Not found embedding for :  490745\n",
      "Not found embedding for :  842481\n",
      "Not found embedding for :  623588\n",
      "Not found embedding for :  623588\n",
      "Not found embedding for :  3450727\n",
      "Not found embedding for :  1609909\n",
      "Not found embedding for :  1609909\n",
      "Not found embedding for :  885780\n",
      "Not found embedding for :  4143692\n",
      "Not found embedding for :  4143652\n",
      "Not found embedding for :  1068763\n",
      "Not found embedding for :  3186193\n",
      "Not found embedding for :  1170604\n",
      "Not found embedding for :  4068010\n",
      "Not found embedding for :  1290124\n",
      "Not found embedding for :  3335525\n",
      "Not found embedding for :  799029\n",
      "Not found embedding for :  916998\n",
      "Not found embedding for :  2660064\n",
      "Not found embedding for :  473559\n",
      "Not found embedding for :  411249\n",
      "Not found embedding for :  2650575\n",
      "Not found embedding for :  1044850\n",
      "Not found embedding for :  232124\n",
      "Not found embedding for :  2310808\n",
      "Not found embedding for :  3441167\n",
      "Not found embedding for :  1014893\n",
      "Not found embedding for :  2546888\n",
      "Not found embedding for :  3049220\n",
      "Not found embedding for :  2035476\n",
      "Not found embedding for :  4162563\n",
      "Not found embedding for :  3427477\n",
      "Not found embedding for :  3429837\n",
      "Not found embedding for :  3429837\n",
      "Not found embedding for :  330375\n",
      "Not found embedding for :  1587713\n",
      "Not found embedding for :  2973421\n",
      "Not found embedding for :  1561582\n",
      "Not found embedding for :  722388\n",
      "Not found embedding for :  1388268\n",
      "Not found embedding for :  495702\n",
      "Not found embedding for :  1171266\n",
      "Not found embedding for :  2255643\n",
      "Not found embedding for :  2373903\n",
      "Not found embedding for :  3186193\n",
      "Not found embedding for :  1522930\n",
      "Not found embedding for :  459536\n",
      "Not found embedding for :  459536\n",
      "Not found embedding for :  3719131\n",
      "Not found embedding for :  1801068\n",
      "Not found embedding for :  2605652\n",
      "Not found embedding for :  1394843\n",
      "Not found embedding for :  2255643\n",
      "Not found embedding for :  1760411\n",
      "Not found embedding for :  3985379\n",
      "Not found embedding for :  233432\n",
      "Not found embedding for :  1925164\n",
      "Not found embedding for :  560424\n",
      "Not found embedding for :  48122\n",
      "Not found embedding for :  2252165\n",
      "Not found embedding for :  1953551\n",
      "Not found embedding for :  12261\n",
      "Not found embedding for :  2552169\n",
      "Not found embedding for :  3760245\n",
      "Not found embedding for :  740457\n",
      "Not found embedding for :  233432\n",
      "Not found embedding for :  2263070\n",
      "Not found embedding for :  916998\n",
      "Not found embedding for :  999623\n",
      "Not found embedding for :  3583695\n",
      "Not found embedding for :  1038145\n",
      "Not found embedding for :  4146696\n",
      "Not found embedding for :  560424\n",
      "Not found embedding for :  1258353\n",
      "Not found embedding for :  2840130\n",
      "Not found embedding for :  1739538\n",
      "Not found embedding for :  1249494\n",
      "Not found embedding for :  1977469\n",
      "Not found embedding for :  130104\n",
      "Not found embedding for :  2840130\n",
      "Not found embedding for :  706276\n",
      "Not found embedding for :  394163\n",
      "Not found embedding for :  172573\n",
      "Not found embedding for :  1070978\n",
      "Not found embedding for :  2473627\n",
      "Not found embedding for :  3857749\n",
      "Not found embedding for :  271845\n",
      "Not found embedding for :  3583695\n",
      "Not found embedding for :  1593662\n",
      "Not found embedding for :  3274564\n",
      "Not found embedding for :  876314\n",
      "Not found embedding for :  3147963\n",
      "Not found embedding for :  1014893\n",
      "Not found embedding for :  1014893\n",
      "Not found embedding for :  3841110\n",
      "Not found embedding for :  564208\n"
     ]
    }
   ],
   "source": [
    "user_ratings = {}\n",
    "def user_id_embeddings():\n",
    "    for user in am_df_st['source']:\n",
    "        user_ratings[str(user)] = temporal_embedding(str(user))\n",
    "user_id_embeddings()"
   ]
  },
  {
   "cell_type": "code",
   "execution_count": 48,
   "id": "1b27b65e",
   "metadata": {},
   "outputs": [
    {
     "name": "stdout",
     "output_type": "stream",
     "text": [
      "Not found embedding for :  429560\n"
     ]
    }
   ],
   "source": [
    "item_ratings = {}\n",
    "def item_id_embeddings():\n",
    "    for item in am_df_st['target']:\n",
    "        item_ratings[str(item)] = temporal_embedding(str(item))\n",
    "item_id_embeddings()"
   ]
  },
  {
   "cell_type": "code",
   "execution_count": 62,
   "id": "5a61e424",
   "metadata": {},
   "outputs": [],
   "source": [
    "pd.DataFrame(user_ratings).to_csv('user_embeddings.csv')"
   ]
  },
  {
   "cell_type": "code",
   "execution_count": 63,
   "id": "3644823b",
   "metadata": {},
   "outputs": [],
   "source": [
    "pd.DataFrame(item_ratings).to_csv('item_embeddings.csv')"
   ]
  },
  {
   "cell_type": "code",
   "execution_count": 55,
   "id": "8e8d30ad",
   "metadata": {},
   "outputs": [],
   "source": [
    "def cos_sim(a,b):\n",
    "    return dot(a, b)/(norm(a)*norm(b))"
   ]
  },
  {
   "cell_type": "code",
   "execution_count": null,
   "id": "79e1190d",
   "metadata": {},
   "outputs": [],
   "source": [
    "user_list = [u for u in user_ratings.keys()]\n",
    "item_list = [i for i in item_ratings.keys()]\n",
    "\n",
    "\n",
    "cosine_sim_df = pd.DataFrame(columns = user_list)\n",
    "cosine_sim_df['index'] = item_list\n",
    "cosine_sim_df.index = item_list\n",
    "cosine_sim_df = cosine_sim_df.drop(['index'],axis = 1)\n",
    "\n",
    "for k1,v1 in user_ratings.items():\n",
    "    \n",
    "    for k2,v2 in item_ratings.items():\n",
    "        \n",
    "        cosine_sim_df[k1][k2]=(cos_sim(v1,v2))\n",
    "    "
   ]
  },
  {
   "cell_type": "code",
   "execution_count": null,
   "id": "dd002ddd",
   "metadata": {},
   "outputs": [],
   "source": [
    "temp1 = cosine_sim_df.transpose()\n",
    "temp2 = temp1.reset_index()"
   ]
  },
  {
   "cell_type": "code",
   "execution_count": null,
   "id": "8f5b239e",
   "metadata": {},
   "outputs": [],
   "source": [
    "def find_top_k ( cosine_sim_df,k = 10 ):\n",
    "    list_of_vals = []\n",
    "    n = 10\n",
    "    new_d = (zip(repeat(row[\"index\"]), map(it(0),(row[1:].sort_values(ascending=False)[:n].iteritems())))\n",
    "                     for _, row in cosine_sim_df.iterrows())\n",
    "    for row in new_d:\n",
    "        for ele in row:\n",
    "            list_of_vals.append(ele)\n",
    "    return pd.DataFrame(list_of_vals , columns = ['User','Pred_Item'])"
   ]
  },
  {
   "cell_type": "code",
   "execution_count": null,
   "id": "135ab8b1",
   "metadata": {},
   "outputs": [],
   "source": [
    "recommended_items = find_top_k(  temp2,k = 10)"
   ]
  },
  {
   "cell_type": "code",
   "execution_count": null,
   "id": "5c2a0570",
   "metadata": {},
   "outputs": [],
   "source": [
    "new_df = pd.merge(am_df_st, recommended_items,  how='inner', left_on=['source','target'], right_on = ['User','Pred_Item'])"
   ]
  },
  {
   "cell_type": "code",
   "execution_count": null,
   "id": "7f7d7426",
   "metadata": {},
   "outputs": [],
   "source": [
    "rec_items = ps.sqldf(\"\"\" Select User,Pred_Item, row_number() over (partition by User) as rank \n",
    "                        from  recommended_items  \"\"\")\n",
    "rec_item2 = rec_items.drop_duplicates(subset=['User','Pred_Item'])\n"
   ]
  },
  {
   "cell_type": "code",
   "execution_count": null,
   "id": "3c66c0ae",
   "metadata": {},
   "outputs": [],
   "source": [
    "mrr_df = pd.merge(rec_item2, am_df_st,  how='inner', left_on=['User','Pred_Item'], right_on = ['source','target'])\n",
    "mrr_temp1 = ps.sqldf(\"\"\" Select avg(mrr) as avg_mrr from\n",
    "                        (Select User, 1/rank as mrr from mrr_df)\"\"\")"
   ]
  },
  {
   "cell_type": "code",
   "execution_count": null,
   "id": "d45c2801",
   "metadata": {},
   "outputs": [],
   "source": [
    "recall_10_df = ps.sqldf(\"\"\"   Select avg(num)/10 as recall_10 from \n",
    "                    (Select source,count(*) as num from new_df \n",
    "                      group by 1)  \"\"\")"
   ]
  }
 ],
 "metadata": {
  "kernelspec": {
   "display_name": "Python 3",
   "language": "python",
   "name": "python3"
  },
  "language_info": {
   "codemirror_mode": {
    "name": "ipython",
    "version": 3
   },
   "file_extension": ".py",
   "mimetype": "text/x-python",
   "name": "python",
   "nbconvert_exporter": "python",
   "pygments_lexer": "ipython3",
   "version": "3.8.8"
  }
 },
 "nbformat": 4,
 "nbformat_minor": 5
}
